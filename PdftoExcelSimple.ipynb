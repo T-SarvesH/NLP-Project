{
 "cells": [
  {
   "cell_type": "code",
   "execution_count": 118,
   "id": "293fdc5e-9a57-400e-97e5-b30ad4005ac6",
   "metadata": {},
   "outputs": [],
   "source": [
    "import pytesseract\n",
    "import re\n",
    "import openpyxl as opxl\n",
    "from PIL import Image, ImageDraw\n",
    "import nltk\n",
    "from nltk.tokenize import word_tokenize, sent_tokenize\n",
    "import re as regex\n",
    "from collections import defaultdict"
   ]
  },
  {
   "cell_type": "code",
   "execution_count": 119,
   "id": "682ef512-d93a-4b03-883e-90e1069a8902",
   "metadata": {},
   "outputs": [
    {
     "name": "stdout",
     "output_type": "stream",
     "text": [
      "SAMPLE\n",
      "\n",
      "(All names and details provided in this sample are fictitious.\n",
      "‘Some fields have been deliberately left blank.)\n",
      "\n",
      " \n",
      "\n",
      "MEDICAL REPORT\n",
      "\n",
      "RY Le OSE ESR Se ALY\n",
      "\n",
      " \n",
      "\n",
      "Full name of patient: Mr Tan Ah Kow\n",
      "\n",
      " \n",
      "\n",
      " \n",
      "\n",
      "NRIC/FIN/Passport no. of patient: S1111111X\n",
      "\n",
      " \n",
      "\n",
      " \n",
      "\n",
      " \n",
      "\n",
      "Age of patient: 55 years old\n",
      "\n",
      " \n",
      "\n",
      "SECTION 2: DOCTOR'S PARTICULARS\n",
      "\n",
      " \n",
      "\n",
      " \n",
      "\n",
      "Full name of doctor: Tan Ah Moi\n",
      "\n",
      " \n",
      "\n",
      " \n",
      "\n",
      "NRIC/FIN/Passport no. of doctor: $2222222Z\n",
      "\n",
      " \n",
      "\n",
      " \n",
      "\n",
      "MCR no. of doctor: 333333\n",
      "\n",
      " \n",
      "\n",
      " \n",
      "\n",
      "Hospital / Clinic name and address: 1 Blackacre Hospital, Singapore 01010101\n",
      "\n",
      " \n",
      "\n",
      " \n",
      "\n",
      " \n",
      "\f",
      "\n"
     ]
    }
   ],
   "source": [
    "image = \"sample.png\"\n",
    "image1 = Image.open(image)\n",
    "    \n",
    "text = pytesseract.image_to_string(image1) \n",
    "print(text)"
   ]
  },
  {
   "cell_type": "code",
   "execution_count": 120,
   "id": "81663c0c-d2a7-42ba-8853-7b3f8c29791e",
   "metadata": {},
   "outputs": [
    {
     "name": "stdout",
     "output_type": "stream",
     "text": [
      "['SAMPLE', '', '(All names and details provided in this sample are fictitious.', '‘Some fields have been deliberately left blank.)', '', ' ', '', 'MEDICAL REPORT', '', 'RY Le OSE ESR Se ALY', '', ' ', '', 'Full name of patient: Mr Tan Ah Kow', '', ' ', '', ' ', '', 'NRIC/FIN/Passport no. of patient: S1111111X', '', ' ', '', ' ', '', ' ', '', 'Age of patient: 55 years old', '', ' ', '', \"SECTION 2: DOCTOR'S PARTICULARS\", '', ' ', '', ' ', '', 'Full name of doctor: Tan Ah Moi', '', ' ', '', ' ', '', 'NRIC/FIN/Passport no. of doctor: $2222222Z', '', ' ', '', ' ', '', 'MCR no. of doctor: 333333', '', ' ', '', ' ', '', 'Hospital / Clinic name and address: 1 Blackacre Hospital, Singapore 01010101', '', ' ', '', ' ', '', ' ', '\\x0c']\n"
     ]
    }
   ],
   "source": [
    "text_split = text.split(\"\\n\")\n",
    "print(text_split)"
   ]
  },
  {
   "cell_type": "code",
   "execution_count": 121,
   "id": "b7b29245-3f18-4a0b-9568-5b9cdae6121e",
   "metadata": {},
   "outputs": [],
   "source": [
    "Dict = defaultdict(list)\n",
    "iterator = re.compile('[\\w+\\s+]+:')\n",
    "keyword = \"SECTION\"\n",
    "\n",
    "for sentence in text_split:\n",
    "    \n",
    "    if len(iterator.findall(sentence)) == 1 and keyword not in sentence:\n",
    "        sentence = sentence.strip()\n",
    "        key, value = sentence.split(\":\")\n",
    "        value = value.strip()\n",
    "        Dict[key].append(value)"
   ]
  },
  {
   "cell_type": "code",
   "execution_count": 122,
   "id": "0f04a05a-eb07-43cf-a172-a05b3a9ed490",
   "metadata": {},
   "outputs": [
    {
     "name": "stdout",
     "output_type": "stream",
     "text": [
      "  Full name of patient NRIC/FIN/Passport no. of patient Age of patient  \\\n",
      "0        Mr Tan Ah Kow                        S1111111X   55 years old   \n",
      "\n",
      "  Full name of doctor NRIC/FIN/Passport no. of doctor MCR no. of doctor  \\\n",
      "0          Tan Ah Moi                       $2222222Z            333333   \n",
      "\n",
      "         Hospital / Clinic name and address  \n",
      "0  1 Blackacre Hospital, Singapore 01010101  \n"
     ]
    }
   ],
   "source": [
    "import pandas as pd\n",
    "\n",
    "data = pd.DataFrame.from_dict(Dict)\n",
    "print(data)\n",
    "#excelSheet = opxl.load_workbook('output.xlsx')"
   ]
  },
  {
   "cell_type": "code",
   "execution_count": 123,
   "id": "9ad5242f-9915-48ad-95e2-90db5802ec01",
   "metadata": {},
   "outputs": [],
   "source": [
    "from openpyxl import Workbook, load_workbook"
   ]
  },
  {
   "cell_type": "code",
   "execution_count": 124,
   "id": "53681e74-8745-4d40-98db-ab5977ad77dd",
   "metadata": {},
   "outputs": [],
   "source": [
    "wb = load_workbook('output.xlsx')"
   ]
  },
  {
   "cell_type": "code",
   "execution_count": 125,
   "id": "b3c57787-4dab-40ed-b525-33df58dea102",
   "metadata": {},
   "outputs": [],
   "source": [
    "sheet = wb.active\n",
    "\n",
    "sheet.append(list(Dict.keys()))\n",
    "rows = list(zip(*Dict.values()))\n",
    "\n",
    "for row in rows:\n",
    "    sheet.append(list(row))\n"
   ]
  },
  {
   "cell_type": "code",
   "execution_count": 126,
   "id": "671c82b2-b6b2-4201-b40f-7cfc65d3c7f4",
   "metadata": {},
   "outputs": [],
   "source": [
    "wb.save('output.xlsx')\n",
    "wb.close()"
   ]
  }
 ],
 "metadata": {
  "kernelspec": {
   "display_name": "Python 3 (ipykernel)",
   "language": "python",
   "name": "python3"
  },
  "language_info": {
   "codemirror_mode": {
    "name": "ipython",
    "version": 3
   },
   "file_extension": ".py",
   "mimetype": "text/x-python",
   "name": "python",
   "nbconvert_exporter": "python",
   "pygments_lexer": "ipython3",
   "version": "3.10.12"
  }
 },
 "nbformat": 4,
 "nbformat_minor": 5
}
