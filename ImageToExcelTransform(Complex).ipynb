{
 "cells": [
  {
   "cell_type": "code",
   "execution_count": 42,
   "id": "0c9608f3-ade9-4854-baa1-6b49f21a8def",
   "metadata": {},
   "outputs": [],
   "source": [
    "import pytesseract\n",
    "import re\n",
    "import openpyxl as opxl\n",
    "from PIL import Image, ImageDraw\n",
    "import nltk\n",
    "from nltk.tokenize import word_tokenize, sent_tokenize\n",
    "import re as regex\n",
    "from collections import defaultdict\n",
    "import cv2"
   ]
  },
  {
   "cell_type": "code",
   "execution_count": 61,
   "id": "4b9be9e0-be92-4cd1-b7b7-ffbbea03f05e",
   "metadata": {},
   "outputs": [
    {
     "name": "stdout",
     "output_type": "stream",
     "text": [
      "1: (321, 40, 178, 82)\n"
     ]
    }
   ],
   "source": [
    "import cv2\n",
    "\n",
    "refPt = []\n",
    "coords = []\n",
    "cropping = False\n",
    "\n",
    "def click_and_crop(event, x, y, flags, param):\n",
    "    global refPt, cropping, coords, image\n",
    "\n",
    "    if event == cv2.EVENT_LBUTTONDOWN:\n",
    "        refPt = [(x, y)]\n",
    "        cropping = True\n",
    "\n",
    "    elif event == cv2.EVENT_LBUTTONUP:\n",
    "        refPt.append((x, y))\n",
    "        cropping = False\n",
    "\n",
    "        if len(refPt) == 2:\n",
    "            x_start, y_start = refPt[0]\n",
    "            x_end, y_end = refPt[1]\n",
    "            width = x_end - x_start\n",
    "            height = y_end - y_start\n",
    "            bbox = (x_start, y_start, width, height)\n",
    "            coords.append(bbox)\n",
    "\n",
    "            cv2.rectangle(image, refPt[0], refPt[1], (0, 255, 0), 2)\n",
    "            cv2.imshow(\"image\", image)\n",
    "\n",
    "        refPt = []\n",
    "\n",
    "image = cv2.imread('sample2.jpg')\n",
    "clone = image.copy()\n",
    "\n",
    "cv2.namedWindow(\"image\")\n",
    "cv2.setMouseCallback(\"image\", click_and_crop)\n",
    "\n",
    "while True:\n",
    "    cv2.imshow(\"image\", image)\n",
    "    key = cv2.waitKey(1) & 0xFF\n",
    "    if key == ord(\"r\"):\n",
    "        image = clone.copy()\n",
    "        coords.clear()\n",
    "    elif key == ord(\"q\"):\n",
    "        break\n",
    "\n",
    "cv2.destroyAllWindows()\n",
    "\n",
    "for i, box in enumerate(coords, 1):\n",
    "    print(f\"{i}: {box}\")"
   ]
  },
  {
   "cell_type": "code",
   "execution_count": 62,
   "id": "251e37ec-18a3-47b2-8772-f8c7d7dd708d",
   "metadata": {},
   "outputs": [
    {
     "name": "stdout",
     "output_type": "stream",
     "text": [
      "{'level': [1, 2, 3, 4, 5, 5, 4, 5, 5, 3, 4, 5, 5, 3, 4, 5, 5, 5, 3, 4, 5, 5, 5, 5], 'page_num': [1, 1, 1, 1, 1, 1, 1, 1, 1, 1, 1, 1, 1, 1, 1, 1, 1, 1, 1, 1, 1, 1, 1, 1], 'block_num': [0, 1, 1, 1, 1, 1, 1, 1, 1, 1, 1, 1, 1, 1, 1, 1, 1, 1, 1, 1, 1, 1, 1, 1], 'par_num': [0, 0, 1, 1, 1, 1, 1, 1, 1, 2, 2, 2, 2, 3, 3, 3, 3, 3, 4, 4, 4, 4, 4, 4], 'line_num': [0, 0, 0, 1, 1, 1, 2, 2, 2, 0, 1, 1, 1, 0, 1, 1, 1, 1, 0, 1, 1, 1, 1, 1], 'word_num': [0, 0, 0, 0, 1, 2, 0, 1, 2, 0, 0, 1, 2, 0, 0, 1, 2, 3, 0, 0, 1, 2, 3, 4], 'left': [0, 7, 7, 7, 7, 55, 7, 7, 55, 7, 7, 7, 56, 7, 7, 7, 55, 82, 7, 7, 7, 32, 69, 103], 'top': [0, 7, 7, 7, 7, 7, 23, 23, 23, 38, 38, 38, 39, 54, 54, 54, 54, 42, 70, 70, 70, 71, 58, 70], 'width': [178, 156, 64, 59, 23, 11, 64, 32, 16, 86, 86, 25, 37, 107, 107, 41, 28, 32, 156, 156, 20, 31, 8, 60], 'height': [82, 70, 24, 7, 7, 7, 8, 8, 7, 8, 8, 8, 6, 9, 9, 7, 7, 28, 7, 7, 7, 6, 24, 7], 'conf': [-1, -1, -1, -1, 59, 55, -1, 0, 22, -1, -1, 37, 0, -1, -1, 35, 44, 33, -1, -1, 37, 30, 5, 0], 'text': ['', '', '', '', 'Name', 'RR', '', 'pavsex', 'SUF', '', '', 'Na', 'oTo', '', '', 'Waxd/0PO', 'Genel', 'Sergey', '', '', 'Dene', '12002', '=', 'AncomarTRSOON-']}\n",
      "['Name', 'RR', 'pavsex', 'SUF', 'Na', 'oTo', 'Waxd/0PO', 'Genel', 'Sergey', 'Dene', '12002', '=', 'AncomarTRSOON-']\n",
      "Name RR pavsex SUF Na oTo Waxd/0PO Genel Sergey Dene 12002 = AncomarTRSOON-\n"
     ]
    }
   ],
   "source": [
    "def string_conversion():\n",
    "    pass\n",
    "\n",
    "\n",
    "image = Image.open('sample2.jpg')\n",
    "placeholders = ['', ' ']\n",
    "for box_coords in coords:\n",
    "    new_image = image.crop((box_coords[0], box_coords[1], box_coords[0] + box_coords[2], box_coords[3] + box_coords[1]))\n",
    "    ocr_data = pytesseract.image_to_data(new_image, output_type=pytesseract.Output.DICT)\n",
    "    print(ocr_data)\n",
    "    ocr_data['text'] = [o for o in ocr_data['text'] if o not in placeholders]\n",
    "    string = ' '.join(ocr_data['text'])\n",
    "    print(ocr_data['text'])\n",
    "    print(string)"
   ]
  },
  {
   "cell_type": "code",
   "execution_count": null,
   "id": "da681a63-7bfe-4e70-9ece-a6ab27a764c0",
   "metadata": {},
   "outputs": [],
   "source": []
  }
 ],
 "metadata": {
  "kernelspec": {
   "display_name": "Python 3 (ipykernel)",
   "language": "python",
   "name": "python3"
  },
  "language_info": {
   "codemirror_mode": {
    "name": "ipython",
    "version": 3
   },
   "file_extension": ".py",
   "mimetype": "text/x-python",
   "name": "python",
   "nbconvert_exporter": "python",
   "pygments_lexer": "ipython3",
   "version": "3.10.12"
  }
 },
 "nbformat": 4,
 "nbformat_minor": 5
}
