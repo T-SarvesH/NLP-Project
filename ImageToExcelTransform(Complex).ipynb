{
 "cells": [
  {
   "cell_type": "code",
   "execution_count": 31,
   "id": "0c9608f3-ade9-4854-baa1-6b49f21a8def",
   "metadata": {},
   "outputs": [],
   "source": [
    "import pytesseract\n",
    "import re\n",
    "import openpyxl as opxl\n",
    "from PIL import Image, ImageDraw\n",
    "import nltk\n",
    "from nltk.tokenize import word_tokenize, sent_tokenize\n",
    "import re as regex\n",
    "from collections import defaultdict\n",
    "import cv2\n",
    "import numpy as np"
   ]
  },
  {
   "cell_type": "code",
   "execution_count": 61,
   "id": "4b9be9e0-be92-4cd1-b7b7-ffbbea03f05e",
   "metadata": {},
   "outputs": [
    {
     "name": "stdout",
     "output_type": "stream",
     "text": [
      "1: (321, 40, 178, 82)\n"
     ]
    }
   ],
   "source": [
    "import cv2\n",
    "\n",
    "refPt = []\n",
    "coords = []\n",
    "cropping = False\n",
    "\n",
    "def click_and_crop(event, x, y, flags, param):\n",
    "    global refPt, cropping, coords, image\n",
    "\n",
    "    if event == cv2.EVENT_LBUTTONDOWN:\n",
    "        refPt = [(x, y)]\n",
    "        cropping = True\n",
    "\n",
    "    elif event == cv2.EVENT_LBUTTONUP:\n",
    "        refPt.append((x, y))\n",
    "        cropping = False\n",
    "\n",
    "        if len(refPt) == 2:\n",
    "            x_start, y_start = refPt[0]\n",
    "            x_end, y_end = refPt[1]\n",
    "            width = x_end - x_start\n",
    "            height = y_end - y_start\n",
    "            bbox = (x_start, y_start, width, height)\n",
    "            coords.append(bbox)\n",
    "\n",
    "            cv2.rectangle(image, refPt[0], refPt[1], (0, 255, 0), 2)\n",
    "            cv2.imshow(\"image\", image)\n",
    "\n",
    "        refPt = []\n",
    "\n",
    "image = cv2.imread('sample2.jpg')\n",
    "clone = image.copy()\n",
    "\n",
    "cv2.namedWindow(\"image\")\n",
    "cv2.setMouseCallback(\"image\", click_and_crop)\n",
    "\n",
    "while True:\n",
    "    cv2.imshow(\"image\", image)\n",
    "    key = cv2.waitKey(1) & 0xFF\n",
    "    if key == ord(\"r\"):\n",
    "        image = clone.copy()\n",
    "        coords.clear()\n",
    "    elif key == ord(\"q\"):\n",
    "        break\n",
    "\n",
    "cv2.destroyAllWindows()\n",
    "\n",
    "for i, box in enumerate(coords, 1):\n",
    "    print(f\"{i}: {box}\")"
   ]
  },
  {
   "cell_type": "code",
   "execution_count": 62,
   "id": "251e37ec-18a3-47b2-8772-f8c7d7dd708d",
   "metadata": {},
   "outputs": [
    {
     "name": "stdout",
     "output_type": "stream",
     "text": [
      "{'level': [1, 2, 3, 4, 5, 5, 4, 5, 5, 3, 4, 5, 5, 3, 4, 5, 5, 5, 3, 4, 5, 5, 5, 5], 'page_num': [1, 1, 1, 1, 1, 1, 1, 1, 1, 1, 1, 1, 1, 1, 1, 1, 1, 1, 1, 1, 1, 1, 1, 1], 'block_num': [0, 1, 1, 1, 1, 1, 1, 1, 1, 1, 1, 1, 1, 1, 1, 1, 1, 1, 1, 1, 1, 1, 1, 1], 'par_num': [0, 0, 1, 1, 1, 1, 1, 1, 1, 2, 2, 2, 2, 3, 3, 3, 3, 3, 4, 4, 4, 4, 4, 4], 'line_num': [0, 0, 0, 1, 1, 1, 2, 2, 2, 0, 1, 1, 1, 0, 1, 1, 1, 1, 0, 1, 1, 1, 1, 1], 'word_num': [0, 0, 0, 0, 1, 2, 0, 1, 2, 0, 0, 1, 2, 0, 0, 1, 2, 3, 0, 0, 1, 2, 3, 4], 'left': [0, 7, 7, 7, 7, 55, 7, 7, 55, 7, 7, 7, 56, 7, 7, 7, 55, 82, 7, 7, 7, 32, 69, 103], 'top': [0, 7, 7, 7, 7, 7, 23, 23, 23, 38, 38, 38, 39, 54, 54, 54, 54, 42, 70, 70, 70, 71, 58, 70], 'width': [178, 156, 64, 59, 23, 11, 64, 32, 16, 86, 86, 25, 37, 107, 107, 41, 28, 32, 156, 156, 20, 31, 8, 60], 'height': [82, 70, 24, 7, 7, 7, 8, 8, 7, 8, 8, 8, 6, 9, 9, 7, 7, 28, 7, 7, 7, 6, 24, 7], 'conf': [-1, -1, -1, -1, 59, 55, -1, 0, 22, -1, -1, 37, 0, -1, -1, 35, 44, 33, -1, -1, 37, 30, 5, 0], 'text': ['', '', '', '', 'Name', 'RR', '', 'pavsex', 'SUF', '', '', 'Na', 'oTo', '', '', 'Waxd/0PO', 'Genel', 'Sergey', '', '', 'Dene', '12002', '=', 'AncomarTRSOON-']}\n",
      "['Name', 'RR', 'pavsex', 'SUF', 'Na', 'oTo', 'Waxd/0PO', 'Genel', 'Sergey', 'Dene', '12002', '=', 'AncomarTRSOON-']\n",
      "Name RR pavsex SUF Na oTo Waxd/0PO Genel Sergey Dene 12002 = AncomarTRSOON-\n"
     ]
    }
   ],
   "source": [
    "def string_conversion():\n",
    "    pass\n",
    "\n",
    "\n",
    "image = Image.open('sample2.jpg')\n",
    "placeholders = ['', ' ']\n",
    "for box_coords in coords:\n",
    "    new_image = image.crop((box_coords[0], box_coords[1], box_coords[0] + box_coords[2], box_coords[3] + box_coords[1]))\n",
    "    ocr_data = pytesseract.image_to_data(new_image, output_type=pytesseract.Output.DICT)\n",
    "    print(ocr_data)\n",
    "    ocr_data['text'] = [o for o in ocr_data['text'] if o not in placeholders]\n",
    "    string = ' '.join(ocr_data['text'])\n",
    "    print(ocr_data['text'])\n",
    "    print(string)"
   ]
  },
  {
   "cell_type": "code",
   "execution_count": 3,
   "id": "da681a63-7bfe-4e70-9ece-a6ab27a764c0",
   "metadata": {},
   "outputs": [],
   "source": [
    "#Method 2\n",
    "image = cv2.imread('sample3.png')\n",
    "grayscale = cv2.cvtColor(image, cv2.COLOR_BGR2GRAY)\n",
    "blur = cv2.GaussianBlur(grayscale, (7, 7), 0)\n",
    "thresh = cv2.threshold(blur, 0, 255, cv2.THRESH_BINARY_INV + cv2.THRESH_OTSU)[1]"
   ]
  },
  {
   "cell_type": "code",
   "execution_count": 10,
   "id": "95a1f8e7-1dce-44d6-ba95-c438ce138801",
   "metadata": {},
   "outputs": [
    {
     "data": {
      "text/plain": [
       "True"
      ]
     },
     "execution_count": 10,
     "metadata": {},
     "output_type": "execute_result"
    }
   ],
   "source": [
    "# Load and preprocess\n",
    "image = cv2.imread(\"sample3.png\")\n",
    "gray = cv2.cvtColor(image, cv2.COLOR_BGR2GRAY)\n",
    "thresh = cv2.adaptiveThreshold(gray, 255, cv2.ADAPTIVE_THRESH_MEAN_C,\n",
    "                               cv2.THRESH_BINARY_INV, 15, 10)\n",
    "\n",
    "# Dilate to connect boxes\n",
    "kernel = cv2.getStructuringElement(cv2.MORPH_RECT, (5, 5))\n",
    "dilated = cv2.dilate(thresh, kernel, iterations=2)\n",
    "\n",
    "# Find contours\n",
    "contours, _ = cv2.findContours(dilated, cv2.RETR_EXTERNAL, cv2.CHAIN_APPROX_SIMPLE)\n",
    "boxes = [cv2.boundingRect(c) for c in contours]\n",
    "\n",
    "# Function to check if two boxes are near each other\n",
    "def are_boxes_close(box1, box2, threshold=40):\n",
    "    x1, y1, w1, h1 = box1\n",
    "    x2, y2, w2, h2 = box2\n",
    "\n",
    "    # Check if boxes are horizontally or vertically near\n",
    "    horizontal_close = abs(x1 - x2) < threshold or abs((x1 + w1) - (x2 + w2)) < threshold\n",
    "    vertical_close = abs(y1 - y2) < threshold or abs((y1 + h1) - (y2 + h2)) < threshold\n",
    "    return horizontal_close and vertical_close\n",
    "\n",
    "# Merge nearby boxes\n",
    "merged = []\n",
    "used = [False] * len(boxes)\n",
    "\n",
    "for i in range(len(boxes)):\n",
    "    if used[i]:\n",
    "        continue\n",
    "    x, y, w, h = boxes[i]\n",
    "    for j in range(i + 1, len(boxes)):\n",
    "        if used[j]:\n",
    "            continue\n",
    "        if are_boxes_close(boxes[i], boxes[j], threshold=25):\n",
    "            x2, y2, w2, h2 = boxes[j]\n",
    "            x = min(x, x2)\n",
    "            y = min(y, y2)\n",
    "            w = max(x + w, x2 + w2) - x\n",
    "            h = max(y + h, y2 + h2) - y\n",
    "            used[j] = True\n",
    "    merged.append((x, y, w, h))\n",
    "\n",
    "# Draw merged boxes\n",
    "for (x, y, w, h) in merged:\n",
    "    cv2.rectangle(image, (x, y), (x + w, y + h), (0, 255, 0), 2)\n",
    "\n",
    "cv2.imwrite('op.png', image)"
   ]
  },
  {
   "cell_type": "code",
   "execution_count": 13,
   "id": "9fcda199-c053-45b3-a2f7-3b6ba61d42e2",
   "metadata": {},
   "outputs": [
    {
     "data": {
      "text/plain": [
       "True"
      ]
     },
     "execution_count": 13,
     "metadata": {},
     "output_type": "execute_result"
    }
   ],
   "source": [
    "#Optimised code @ 4/6/2025\n",
    "\n",
    "def is_near(b1, b2, pad=15):\n",
    "    x1, y1, w1, h1 = b1\n",
    "    x2, y2, w2, h2 = b2\n",
    "\n",
    "    # Create expanded bounding box of b1\n",
    "    ex1 = x1 - pad\n",
    "    ey1 = y1 - pad\n",
    "    ex2 = x1 + w1 + pad\n",
    "    ey2 = y1 + h1 + pad\n",
    "\n",
    "    # Check if b2 is inside the expanded bounding box\n",
    "    return (x2 >= ex1 and y2 >= ey1 and x2 + w2 <= ex2 and y2 + h2 <= ey2)\n",
    "\n",
    "# Load and preprocess\n",
    "image = cv2.imread(\"sample3.png\")\n",
    "sample_image = image.copy()\n",
    "gray = cv2.cvtColor(image, cv2.COLOR_BGR2GRAY)\n",
    "thresh = cv2.adaptiveThreshold(gray, 255, cv2.ADAPTIVE_THRESH_MEAN_C,\n",
    "                               cv2.THRESH_BINARY_INV, 15, 10)\n",
    "\n",
    "# Strengthen contours\n",
    "kernel = cv2.getStructuringElement(cv2.MORPH_RECT, (5, 5))\n",
    "dilated = cv2.dilate(thresh, kernel, iterations=2)\n",
    "\n",
    "# Detect contours\n",
    "contours, _ = cv2.findContours(dilated, cv2.RETR_EXTERNAL, cv2.CHAIN_APPROX_SIMPLE)\n",
    "boxes = [cv2.boundingRect(c) for c in contours]\n",
    "boxes = sorted(boxes, key=lambda b: b[2]*b[3], reverse=True)\n",
    "\n",
    "merged = []\n",
    "used = [False] * len(boxes)\n",
    "bbox_list = []\n",
    "for i in range(len(boxes)):\n",
    "    if used[i]:\n",
    "        continue\n",
    "\n",
    "    x1, y1, w1, h1 = boxes[i]\n",
    "    max_x, max_y = x1 + w1, y1 + h1\n",
    "    min_x, min_y = x1, y1\n",
    "\n",
    "    for j in range(i + 1, len(boxes)):\n",
    "        if used[j]:\n",
    "            continue\n",
    "\n",
    "        b2 = boxes[j]\n",
    "        x2, y2, w2, h2 = b2\n",
    "        x2b, y2b = x2 + w2, y2 + h2\n",
    "\n",
    "        if is_near(boxes[i], b2):\n",
    "            # Expand the larger box to include the smaller box\n",
    "            min_x = min(min_x, x2)\n",
    "            min_y = min(min_y, y2)\n",
    "            max_x = max(max_x, x2b)\n",
    "            max_y = max(max_y, y2b)\n",
    "            used[j] = True\n",
    "\n",
    "    used[i] = True\n",
    "    merged.append((min_x, min_y, max_x - min_x, max_y - min_y))\n",
    "\n",
    "# Draw result\n",
    "for (x, y, w, h) in merged:\n",
    "    cv2.rectangle(image, (x, y), (x + w, y + h), (0, 255, 0), 2)\n",
    "    bbox_list.append((x, y, x+w, y+h))\n",
    "\n",
    "cv2.imwrite('op.png', image)"
   ]
  },
  {
   "cell_type": "code",
   "execution_count": 14,
   "id": "986f626a-5a30-498a-a2ea-0095e6f3b12d",
   "metadata": {},
   "outputs": [
    {
     "name": "stdout",
     "output_type": "stream",
     "text": [
      "[(37, 3, 569, 44), (387, 45, 540, 126), (37, 245, 180, 324), (37, 139, 222, 189), (212, 76, 330, 123), (37, 208, 569, 218), (37, 128, 569, 138), (258, 252, 388, 291), (38, 46, 129, 93), (246, 219, 360, 251), (431, 139, 539, 168), (135, 52, 209, 83), (431, 176, 541, 196), (252, 296, 327, 324), (253, 45, 293, 75), (213, 45, 252, 74), (227, 252, 254, 277), (227, 296, 241, 324)]\n"
     ]
    }
   ],
   "source": [
    "print(bbox_list)"
   ]
  },
  {
   "cell_type": "code",
   "execution_count": 44,
   "id": "7b8d4535-45af-4df5-8f2d-fcbeca23f2a9",
   "metadata": {},
   "outputs": [
    {
     "name": "stdout",
     "output_type": "stream",
     "text": [
      "[['Requisition Number: 760145584'], ['ACCOUNT DETAILS: Cash', 'Recept Number: Not Avalable', 'Member Number: Not Avaiale', 'Collected: 01/0272005', 'Received: 02/02/2005'], ['White Blood Calle: 7.49'], ['Location: PRETORIA', 'White Blood Calle: 7.49'], ['Member Number: Not Avaiale', 'Collected: 01/0272005', 'Received: 02/02/2005', 'Reported: 0702/2005'], ['White Blood Calle: 7.49 4-1 10°91.'], ['Collected: 01/0272005', 'Received: 02/02/2005', 'Reported: 0702/2005'], [], [], [], ['Collected: 01/02/2005', 'Received: 02/02/2005', 'Reported: 0702/2005'], ['DosJane Age: Hy'], ['Reported: 02/02/2005'], [], ['ACCOUNT DETAILS: Cash', 'Recept Number: Not Avalable'], ['ae Number:'], [], []]\n",
      "Requisition Number: 760145584\n",
      "ACCOUNT DETAILS: Cash\n",
      "Recept Number: Not Avalable\n",
      "Member Number: Not Avaiale\n",
      "Collected: 01/0272005\n",
      "Received: 02/02/2005\n",
      "White Blood Calle: 7.49\n",
      "Location: PRETORIA\n",
      "White Blood Calle: 7.49\n",
      "Member Number: Not Avaiale\n",
      "Collected: 01/0272005\n",
      "Received: 02/02/2005\n",
      "Reported: 0702/2005\n",
      "White Blood Calle: 7.49 4-1 10°91.\n",
      "Collected: 01/0272005\n",
      "Received: 02/02/2005\n",
      "Reported: 0702/2005\n",
      "Collected: 01/02/2005\n",
      "Received: 02/02/2005\n",
      "Reported: 0702/2005\n",
      "DosJane Age: Hy\n",
      "Reported: 02/02/2005\n",
      "ACCOUNT DETAILS: Cash\n",
      "Recept Number: Not Avalable\n",
      "ae Number:\n"
     ]
    }
   ],
   "source": [
    "image = Image.open('sample3.png')\n",
    "list1 = []\n",
    "for bbox in bbox_list:\n",
    "    x1, y1, x2, y2 = bbox[0], bbox[1], bbox[0] + bbox[2], bbox[1]+bbox[3]\n",
    "    new_img = image.crop((x1, y1, x2, y2))\n",
    "    ocr_data = pytesseract.image_to_string(new_img, output_type=pytesseract.Output.DICT)\n",
    "    seperated_data = ocr_data['text'].split('\\n')\n",
    "    filtered_data = [s for s in seperated_data if ':' in s and 'Tests Requested' not in s]\n",
    "    list1.append(filtered_data)\n",
    "\n",
    "Dict = defaultdict(list)\n",
    "empty_fields = ['', ' ']\n",
    "print(list1)\n",
    "\n",
    "for l in list1:\n",
    "    for inst in l:\n",
    "        print(inst)\n",
    "        key, value = inst.split(':')\n",
    "        if value in empty_fields:\n",
    "            value = 'Not Available'\n",
    "        Dict[key].append(value)\n",
    "        \n",
    "wb = opxl.load_workbook('output2.xlsx')\n",
    "acs = wb.active\n",
    "acs.append(list(Dict.keys()))\n",
    "rows = list(zip(*Dict.values()))\n",
    "\n",
    "for row in rows:\n",
    "    acs.append(row)\n",
    "\n",
    "wb.save('output2.xlsx')\n",
    "wb.close()"
   ]
  },
  {
   "cell_type": "code",
   "execution_count": null,
   "id": "3fd34fc7-1446-431d-9916-83cbe3c55c20",
   "metadata": {},
   "outputs": [],
   "source": []
  }
 ],
 "metadata": {
  "kernelspec": {
   "display_name": "Python 3 (ipykernel)",
   "language": "python",
   "name": "python3"
  },
  "language_info": {
   "codemirror_mode": {
    "name": "ipython",
    "version": 3
   },
   "file_extension": ".py",
   "mimetype": "text/x-python",
   "name": "python",
   "nbconvert_exporter": "python",
   "pygments_lexer": "ipython3",
   "version": "3.10.12"
  }
 },
 "nbformat": 4,
 "nbformat_minor": 5
}
